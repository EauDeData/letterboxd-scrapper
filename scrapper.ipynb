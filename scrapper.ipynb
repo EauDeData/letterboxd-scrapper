{
 "cells": [
  {
   "cell_type": "code",
   "execution_count": 60,
   "id": "aaf1bf2a-9f86-48b7-86c3-2142378ad527",
   "metadata": {},
   "outputs": [],
   "source": [
    "import requests as r\n",
    "import networkx as nx\n",
    "from bs4 import BeautifulSoup"
   ]
  },
  {
   "cell_type": "code",
   "execution_count": 80,
   "id": "82a3277b-dbef-4ba5-be91-4c32f12dd2c2",
   "metadata": {},
   "outputs": [],
   "source": [
    "def film2actors(link):\n",
    "    html = r.get(link).text\n",
    "    soup = BeautifulSoup(html)\n",
    "    actor_sou = soup.find_all(class_ = 'cast-list')\n",
    "    actors = BeautifulSoup(str(actor_sou[0])).find_all('a')\n",
    "    return [x.attrs['href'] for x in actors]"
   ]
  },
  {
   "cell_type": "code",
   "execution_count": 81,
   "id": "497d8092-8a4b-4b7f-a7d2-c2a35aa13046",
   "metadata": {},
   "outputs": [],
   "source": [
    "def film2directors(link):\n",
    "    html = r.get(link).text\n",
    "    soup = str('\\n'.join([str(x) for x in BeautifulSoup(html).find_all(class_ = 'text-sluglist')]))\n",
    "    crew = BeautifulSoup(soup).find_all('a')\n",
    "    return [x.attrs['href'] for x in crew if 'director' in x.attrs['href']]"
   ]
  },
  {
   "cell_type": "code",
   "execution_count": 82,
   "id": "c79c6cff-f183-424d-98ce-50dbf4f1cbb7",
   "metadata": {},
   "outputs": [],
   "source": [
    "def actor2films(link):\n",
    "    html = r.get(link).text\n",
    "    soup = BeautifulSoup(html).find_all(class_ = 'poster-container')\n",
    "    parsed = [BeautifulSoup(str(x)).find('div') for x in soup]\n",
    "    return [x.attrs['data-target-link'] for x in parsed]"
   ]
  },
  {
   "cell_type": "code",
   "execution_count": 83,
   "id": "86418378-aea1-4cf6-b128-3eee36eb8da4",
   "metadata": {},
   "outputs": [],
   "source": [
    "def director2films(link):\n",
    "    html = r.get(link).text\n",
    "    soup = BeautifulSoup(html).find_all(class_ = 'poster-container')\n",
    "    parsed = [BeautifulSoup(str(x)).find('div') for x in soup]\n",
    "    return [x.attrs['data-target-link'] for x in parsed]"
   ]
  },
  {
   "cell_type": "code",
   "execution_count": 96,
   "id": "76ea256a-b5a6-417a-8ce1-f7ee3e55049c",
   "metadata": {},
   "outputs": [],
   "source": [
    "def step_on_graph(graph, discovered, current_item, verb, target_queue, explored_set):\n",
    "    \n",
    "    for item in discovered:\n",
    "        if not item in graph:\n",
    "\n",
    "            if current_item in graph: graph[current_item][item].append(verb) \n",
    "            else: graph[current_item] = {item: [verb]}\n",
    "\n",
    "        else: \n",
    "\n",
    "            if current_item in graph[item]: graph[item][current_item].append(verb)\n",
    "            else: graph[item][current_item] = [verb]\n",
    "\n",
    "        if not item in explored_set and not item in target_queue: target_queue.append(item)\n",
    "        \n",
    "        \n",
    "    \n",
    "    "
   ]
  },
  {
   "cell_type": "code",
   "execution_count": 97,
   "id": "b70f45f1-3986-4254-8a8f-f02a6457f1cb",
   "metadata": {},
   "outputs": [],
   "source": [
    "graph = {}\n",
    "directors_queue = ['/director/alejandro-amenabar']\n",
    "actors_queue = []\n",
    "films_queue = []\n",
    "\n",
    "MAX_NODES = 15000\n",
    "\n",
    "director_fstring = \"https://letterboxd.com{}\"\n",
    "actor_fstring = \"https://letterboxd.com{}\"\n",
    "film_fstring = \"https://letterboxd.com{}\"\n",
    "\n",
    "explored_items = set()"
   ]
  },
  {
   "cell_type": "code",
   "execution_count": 98,
   "id": "e84f13cf-ed7b-4918-b738-274562cfbf9c",
   "metadata": {},
   "outputs": [
    {
     "name": "stdout",
     "output_type": "stream",
     "text": [
      "Currently explored 0 items. 0 films, 0 actors and 1 directors queued. \t\r"
     ]
    },
    {
     "ename": "KeyError",
     "evalue": "'/film/open-your-eyes/'",
     "output_type": "error",
     "traceback": [
      "\u001b[0;31m---------------------------------------------------------------------------\u001b[0m",
      "\u001b[0;31mKeyError\u001b[0m                                  Traceback (most recent call last)",
      "\u001b[0;32m/tmp/ipykernel_7369/3935321720.py\u001b[0m in \u001b[0;36m<cell line: 1>\u001b[0;34m()\u001b[0m\n\u001b[1;32m      6\u001b[0m         \u001b[0mcurrent_director\u001b[0m \u001b[0;34m=\u001b[0m \u001b[0mdirectors_queue\u001b[0m\u001b[0;34m.\u001b[0m\u001b[0mpop\u001b[0m\u001b[0;34m(\u001b[0m\u001b[0;36m0\u001b[0m\u001b[0;34m)\u001b[0m\u001b[0;34m\u001b[0m\u001b[0;34m\u001b[0m\u001b[0m\n\u001b[1;32m      7\u001b[0m         \u001b[0mfilms\u001b[0m \u001b[0;34m=\u001b[0m \u001b[0mdirector2films\u001b[0m\u001b[0;34m(\u001b[0m\u001b[0mdirector_fstring\u001b[0m\u001b[0;34m.\u001b[0m\u001b[0mformat\u001b[0m\u001b[0;34m(\u001b[0m\u001b[0mcurrent_director\u001b[0m\u001b[0;34m)\u001b[0m\u001b[0;34m)\u001b[0m\u001b[0;34m\u001b[0m\u001b[0;34m\u001b[0m\u001b[0m\n\u001b[0;32m----> 8\u001b[0;31m         \u001b[0mstep_on_graph\u001b[0m\u001b[0;34m(\u001b[0m\u001b[0mgraph\u001b[0m\u001b[0;34m,\u001b[0m \u001b[0mfilms\u001b[0m\u001b[0;34m,\u001b[0m \u001b[0mcurrent_director\u001b[0m\u001b[0;34m,\u001b[0m \u001b[0;34m'directed'\u001b[0m\u001b[0;34m,\u001b[0m \u001b[0mfilms_queue\u001b[0m\u001b[0;34m,\u001b[0m \u001b[0mexplored_items\u001b[0m\u001b[0;34m)\u001b[0m\u001b[0;34m\u001b[0m\u001b[0;34m\u001b[0m\u001b[0m\n\u001b[0m\u001b[1;32m      9\u001b[0m         \u001b[0mexplored_items\u001b[0m\u001b[0;34m.\u001b[0m\u001b[0madd\u001b[0m\u001b[0;34m(\u001b[0m\u001b[0mcurrent_director\u001b[0m\u001b[0;34m)\u001b[0m\u001b[0;34m\u001b[0m\u001b[0;34m\u001b[0m\u001b[0m\n\u001b[1;32m     10\u001b[0m \u001b[0;34m\u001b[0m\u001b[0m\n",
      "\u001b[0;32m/tmp/ipykernel_7369/2890195388.py\u001b[0m in \u001b[0;36mstep_on_graph\u001b[0;34m(graph, discovered, current_item, verb, target_queue, explored_set)\u001b[0m\n\u001b[1;32m      4\u001b[0m         \u001b[0;32mif\u001b[0m \u001b[0;32mnot\u001b[0m \u001b[0mitem\u001b[0m \u001b[0;32min\u001b[0m \u001b[0mgraph\u001b[0m\u001b[0;34m:\u001b[0m\u001b[0;34m\u001b[0m\u001b[0;34m\u001b[0m\u001b[0m\n\u001b[1;32m      5\u001b[0m \u001b[0;34m\u001b[0m\u001b[0m\n\u001b[0;32m----> 6\u001b[0;31m             \u001b[0;32mif\u001b[0m \u001b[0mcurrent_item\u001b[0m \u001b[0;32min\u001b[0m \u001b[0mgraph\u001b[0m\u001b[0;34m:\u001b[0m \u001b[0mgraph\u001b[0m\u001b[0;34m[\u001b[0m\u001b[0mcurrent_item\u001b[0m\u001b[0;34m]\u001b[0m\u001b[0;34m[\u001b[0m\u001b[0mitem\u001b[0m\u001b[0;34m]\u001b[0m\u001b[0;34m.\u001b[0m\u001b[0mappend\u001b[0m\u001b[0;34m(\u001b[0m\u001b[0mverb\u001b[0m\u001b[0;34m)\u001b[0m\u001b[0;34m\u001b[0m\u001b[0;34m\u001b[0m\u001b[0m\n\u001b[0m\u001b[1;32m      7\u001b[0m             \u001b[0;32melse\u001b[0m\u001b[0;34m:\u001b[0m \u001b[0mgraph\u001b[0m\u001b[0;34m[\u001b[0m\u001b[0mcurrent_item\u001b[0m\u001b[0;34m]\u001b[0m \u001b[0;34m=\u001b[0m \u001b[0;34m{\u001b[0m\u001b[0mitem\u001b[0m\u001b[0;34m:\u001b[0m \u001b[0;34m[\u001b[0m\u001b[0mverb\u001b[0m\u001b[0;34m]\u001b[0m\u001b[0;34m}\u001b[0m\u001b[0;34m\u001b[0m\u001b[0;34m\u001b[0m\u001b[0m\n\u001b[1;32m      8\u001b[0m \u001b[0;34m\u001b[0m\u001b[0m\n",
      "\u001b[0;31mKeyError\u001b[0m: '/film/open-your-eyes/'"
     ]
    }
   ],
   "source": [
    "while len(explored_items) < MAX_NODES and (len(directors_queue) or len(actors_queue) or len(films_queue)):\n",
    "    \n",
    "    print(f\"Currently explored {len(explored_items)} items. {len(films_queue)} films, {len(actors_queue)} actors and {len(directors_queue)} directors queued. \\t\", end = '\\r')\n",
    "    if len(directors_queue):\n",
    "        \n",
    "        current_director = directors_queue.pop(0)\n",
    "        films = director2films(director_fstring.format(current_director))\n",
    "        step_on_graph(graph, films, current_director, 'directed', films_queue, explored_items)\n",
    "        explored_items.add(current_director)\n",
    "    \n",
    "    if len(actors_queue):\n",
    "        \n",
    "        current_actor = actors_queue.pop(0)\n",
    "        films = actor2films(actor_fstring.format(current_actor))\n",
    "        step_on_graph(graph, films, current_actor, 'acted', films_queue, explored_items)\n",
    "        explored_items.add(current_actor)\n",
    "        \n",
    "    if len(films_queue):\n",
    "        \n",
    "        current_film = films_queue.pop(0)\n",
    "        \n",
    "        ### DIRECTOR DISCOVERY ###\n",
    "        directors = film2directors(film_fstring.format(current_film))\n",
    "        step_on_graph(graph, directors, current_film, 'directed', directors_queue, explored_items)\n",
    "        \n",
    "        \n",
    "        ### ACTOR DISCOVERY ###\n",
    "        actors = film2actors(film_fstring.format(current_film))\n",
    "        step_on_graph(graph, actors, current_film, 'acted', actors_queue, explored_items)\n",
    "        \n",
    "        explored_items.add(current_film)\n",
    "        \n",
    "    \n",
    "    nx.write_gexf(nx.from_dict_of_dicts(graph), './graph.gexf')\n",
    "        \n",
    "    \n",
    "        \n",
    "    "
   ]
  },
  {
   "cell_type": "code",
   "execution_count": null,
   "id": "517b6f17-987b-4414-87e6-aba4a89e793d",
   "metadata": {},
   "outputs": [],
   "source": []
  },
  {
   "cell_type": "code",
   "execution_count": null,
   "id": "2cea1f63-81c8-462b-835e-776b1808bb41",
   "metadata": {},
   "outputs": [],
   "source": []
  }
 ],
 "metadata": {
  "kernelspec": {
   "display_name": "Python 3 (ipykernel)",
   "language": "python",
   "name": "python3"
  },
  "language_info": {
   "codemirror_mode": {
    "name": "ipython",
    "version": 3
   },
   "file_extension": ".py",
   "mimetype": "text/x-python",
   "name": "python",
   "nbconvert_exporter": "python",
   "pygments_lexer": "ipython3",
   "version": "3.9.7"
  }
 },
 "nbformat": 4,
 "nbformat_minor": 5
}
